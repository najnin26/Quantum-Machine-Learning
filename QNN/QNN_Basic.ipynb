{
  "nbformat": 4,
  "nbformat_minor": 0,
  "metadata": {
    "colab": {
      "provenance": [],
      "authorship_tag": "ABX9TyOc4EISjF6uMfE79WAYGzmA",
      "include_colab_link": true
    },
    "kernelspec": {
      "name": "python3",
      "display_name": "Python 3"
    },
    "language_info": {
      "name": "python"
    }
  },
  "cells": [
    {
      "cell_type": "markdown",
      "metadata": {
        "id": "view-in-github",
        "colab_type": "text"
      },
      "source": [
        "<a href=\"https://colab.research.google.com/github/najnin26/Quantum-Machine-Learning/blob/main/QNN/QNN_Basic.ipynb\" target=\"_parent\"><img src=\"https://colab.research.google.com/assets/colab-badge.svg\" alt=\"Open In Colab\"/></a>"
      ]
    },
    {
      "cell_type": "code",
      "execution_count": 15,
      "metadata": {
        "colab": {
          "base_uri": "https://localhost:8080/"
        },
        "id": "UrW2frLKAkfa",
        "outputId": "490cb608-bc86-438a-8db4-a79582376208"
      },
      "outputs": [
        {
          "output_type": "stream",
          "name": "stdout",
          "text": [
            "Requirement already satisfied: qiskit in /usr/local/lib/python3.10/dist-packages (1.2.4)\n",
            "Requirement already satisfied: rustworkx>=0.15.0 in /usr/local/lib/python3.10/dist-packages (from qiskit) (0.15.1)\n",
            "Requirement already satisfied: numpy<3,>=1.17 in /usr/local/lib/python3.10/dist-packages (from qiskit) (1.26.4)\n",
            "Requirement already satisfied: scipy>=1.5 in /usr/local/lib/python3.10/dist-packages (from qiskit) (1.13.1)\n",
            "Requirement already satisfied: sympy>=1.3 in /usr/local/lib/python3.10/dist-packages (from qiskit) (1.13.3)\n",
            "Requirement already satisfied: dill>=0.3 in /usr/local/lib/python3.10/dist-packages (from qiskit) (0.3.9)\n",
            "Requirement already satisfied: python-dateutil>=2.8.0 in /usr/local/lib/python3.10/dist-packages (from qiskit) (2.8.2)\n",
            "Requirement already satisfied: stevedore>=3.0.0 in /usr/local/lib/python3.10/dist-packages (from qiskit) (5.3.0)\n",
            "Requirement already satisfied: typing-extensions in /usr/local/lib/python3.10/dist-packages (from qiskit) (4.12.2)\n",
            "Requirement already satisfied: symengine<0.14,>=0.11 in /usr/local/lib/python3.10/dist-packages (from qiskit) (0.13.0)\n",
            "Requirement already satisfied: six>=1.5 in /usr/local/lib/python3.10/dist-packages (from python-dateutil>=2.8.0->qiskit) (1.16.0)\n",
            "Requirement already satisfied: pbr>=2.0.0 in /usr/local/lib/python3.10/dist-packages (from stevedore>=3.0.0->qiskit) (6.1.0)\n",
            "Requirement already satisfied: mpmath<1.4,>=1.1.0 in /usr/local/lib/python3.10/dist-packages (from sympy>=1.3->qiskit) (1.3.0)\n"
          ]
        }
      ],
      "source": [
        "!pip install qiskit"
      ]
    },
    {
      "cell_type": "code",
      "source": [
        "!pip install qiskit-machine-learning"
      ],
      "metadata": {
        "colab": {
          "base_uri": "https://localhost:8080/"
        },
        "id": "cUcUdmsGAvya",
        "outputId": "6aae5198-3b55-4858-d038-89539fcfa735"
      },
      "execution_count": 16,
      "outputs": [
        {
          "output_type": "stream",
          "name": "stdout",
          "text": [
            "Requirement already satisfied: qiskit-machine-learning in /usr/local/lib/python3.10/dist-packages (0.7.2)\n",
            "Requirement already satisfied: qiskit>=0.44 in /usr/local/lib/python3.10/dist-packages (from qiskit-machine-learning) (1.2.4)\n",
            "Requirement already satisfied: qiskit-algorithms>=0.2.0 in /usr/local/lib/python3.10/dist-packages (from qiskit-machine-learning) (0.3.0)\n",
            "Requirement already satisfied: scipy>=1.4 in /usr/local/lib/python3.10/dist-packages (from qiskit-machine-learning) (1.13.1)\n",
            "Requirement already satisfied: numpy>=1.17 in /usr/local/lib/python3.10/dist-packages (from qiskit-machine-learning) (1.26.4)\n",
            "Requirement already satisfied: psutil>=5 in /usr/local/lib/python3.10/dist-packages (from qiskit-machine-learning) (5.9.5)\n",
            "Requirement already satisfied: scikit-learn>=1.2.0 in /usr/local/lib/python3.10/dist-packages (from qiskit-machine-learning) (1.5.2)\n",
            "Requirement already satisfied: fastdtw in /usr/local/lib/python3.10/dist-packages (from qiskit-machine-learning) (0.3.4)\n",
            "Requirement already satisfied: setuptools>=40.1.0 in /usr/local/lib/python3.10/dist-packages (from qiskit-machine-learning) (71.0.4)\n",
            "Requirement already satisfied: dill>=0.3.4 in /usr/local/lib/python3.10/dist-packages (from qiskit-machine-learning) (0.3.9)\n",
            "Requirement already satisfied: rustworkx>=0.15.0 in /usr/local/lib/python3.10/dist-packages (from qiskit>=0.44->qiskit-machine-learning) (0.15.1)\n",
            "Requirement already satisfied: sympy>=1.3 in /usr/local/lib/python3.10/dist-packages (from qiskit>=0.44->qiskit-machine-learning) (1.13.3)\n",
            "Requirement already satisfied: python-dateutil>=2.8.0 in /usr/local/lib/python3.10/dist-packages (from qiskit>=0.44->qiskit-machine-learning) (2.8.2)\n",
            "Requirement already satisfied: stevedore>=3.0.0 in /usr/local/lib/python3.10/dist-packages (from qiskit>=0.44->qiskit-machine-learning) (5.3.0)\n",
            "Requirement already satisfied: typing-extensions in /usr/local/lib/python3.10/dist-packages (from qiskit>=0.44->qiskit-machine-learning) (4.12.2)\n",
            "Requirement already satisfied: symengine<0.14,>=0.11 in /usr/local/lib/python3.10/dist-packages (from qiskit>=0.44->qiskit-machine-learning) (0.13.0)\n",
            "Requirement already satisfied: joblib>=1.2.0 in /usr/local/lib/python3.10/dist-packages (from scikit-learn>=1.2.0->qiskit-machine-learning) (1.4.2)\n",
            "Requirement already satisfied: threadpoolctl>=3.1.0 in /usr/local/lib/python3.10/dist-packages (from scikit-learn>=1.2.0->qiskit-machine-learning) (3.5.0)\n",
            "Requirement already satisfied: six>=1.5 in /usr/local/lib/python3.10/dist-packages (from python-dateutil>=2.8.0->qiskit>=0.44->qiskit-machine-learning) (1.16.0)\n",
            "Requirement already satisfied: pbr>=2.0.0 in /usr/local/lib/python3.10/dist-packages (from stevedore>=3.0.0->qiskit>=0.44->qiskit-machine-learning) (6.1.0)\n",
            "Requirement already satisfied: mpmath<1.4,>=1.1.0 in /usr/local/lib/python3.10/dist-packages (from sympy>=1.3->qiskit>=0.44->qiskit-machine-learning) (1.3.0)\n"
          ]
        }
      ]
    },
    {
      "cell_type": "code",
      "source": [
        "!pip install pylatexenc"
      ],
      "metadata": {
        "colab": {
          "base_uri": "https://localhost:8080/"
        },
        "id": "dAy_TYZSCqgD",
        "outputId": "722307ec-abf2-4f2a-9c98-87cd2a31cc69"
      },
      "execution_count": 17,
      "outputs": [
        {
          "output_type": "stream",
          "name": "stdout",
          "text": [
            "Requirement already satisfied: pylatexenc in /usr/local/lib/python3.10/dist-packages (2.10)\n"
          ]
        }
      ]
    },
    {
      "cell_type": "markdown",
      "source": [
        "- **EstimatorQNN**: It's like a high-tech tool with extra features, perfect for handling complex tasks. You can fine-tune it more and it works great with detailed, customizable measurements.\n",
        "\n",
        "- **SimplerQNN (like CircuitQNN)**: Think of it as the beginner-friendly version. Easier to set up and use, ideal for straightforward tasks and for those just getting started.\n",
        "\n",
        "Choose based on whether you need a Ferrari or a reliable sedan for your quantum task! 🚗"
      ],
      "metadata": {
        "id": "H-LSfPMTrrhh"
      }
    },
    {
      "cell_type": "markdown",
      "source": [
        "# **2. How to Instantiate QNNs**"
      ],
      "metadata": {
        "id": "wvIh-eK-foGN"
      }
    },
    {
      "cell_type": "markdown",
      "source": [
        "# 2.1. EstimatorQNN"
      ],
      "metadata": {
        "id": "gFC5fTjkfZFP"
      }
    },
    {
      "cell_type": "code",
      "source": [
        "from qiskit_algorithms.utils import algorithm_globals\n",
        "algorithm_globals.random_seed=42"
      ],
      "metadata": {
        "id": "-ZJkSH9sAyEx"
      },
      "execution_count": 18,
      "outputs": []
    },
    {
      "cell_type": "code",
      "source": [
        "from qiskit.circuit import Parameter\n",
        "from qiskit import QuantumCircuit\n",
        "\n",
        "params1 = [Parameter(\"input1\"), Parameter(\"weight1\")]\n",
        "qc1 = QuantumCircuit(1)\n",
        "qc1.h(0)\n",
        "qc1.ry(params1[0], 0)\n",
        "qc1.rx(params1[1], 0)\n",
        "qc1.draw(\"mpl\", style=\"clifford\")"
      ],
      "metadata": {
        "colab": {
          "base_uri": "https://localhost:8080/",
          "height": 127
        },
        "id": "3n0sVsv5BN9d",
        "outputId": "5bf5b264-38d0-4cd5-d9f5-e2b3c5599156"
      },
      "execution_count": 19,
      "outputs": [
        {
          "output_type": "execute_result",
          "data": {
            "text/plain": [
              "<Figure size 352.675x117.056 with 1 Axes>"
            ],
            "image/png": "[encoded data removed]"
          },
          "metadata": {},
          "execution_count": 19
        }
      ]
    },
    {
      "cell_type": "code",
      "source": [
        "from qiskit.quantum_info import SparsePauliOp\n",
        "observable1=SparsePauliOp.from_list([('Y'*qc1.num_qubits,1)])"
      ],
      "metadata": {
        "id": "TOapKh1qCSZw"
      },
      "execution_count": 20,
      "outputs": []
    },
    {
      "cell_type": "code",
      "source": [
        "from qiskit_machine_learning.neural_networks import EstimatorQNN\n",
        "\n",
        "estimator_qnn=EstimatorQNN(\n",
        "    circuit=qc1,\n",
        "    input_params=[params1[0]],\n",
        "    weight_params=[params1[1]],\n",
        "    observables=observable1\n",
        ")\n",
        "estimator_qnn"
      ],
      "metadata": {
        "colab": {
          "base_uri": "https://localhost:8080/"
        },
        "id": "yQ2pstJRGUJJ",
        "outputId": "fbffed2a-79de-4004-96ac-1a0e5acf53eb"
      },
      "execution_count": 21,
      "outputs": [
        {
          "output_type": "execute_result",
          "data": {
            "text/plain": [
              "<qiskit_machine_learning.neural_networks.estimator_qnn.EstimatorQNN at 0x7b1f09af32e0>"
            ]
          },
          "metadata": {},
          "execution_count": 21
        }
      ]
    },
    {
      "cell_type": "code",
      "source": [
        "print(estimator_qnn.circuit)\n",
        "print(estimator_qnn.input_params)\n",
        "print(estimator_qnn.weight_params)\n",
        "print(estimator_qnn.observables)"
      ],
      "metadata": {
        "colab": {
          "base_uri": "https://localhost:8080/"
        },
        "id": "O49WN3YQHWtn",
        "outputId": "ca1b39d2-f903-4245-b876-94cfccc7ceb5"
      },
      "execution_count": 22,
      "outputs": [
        {
          "output_type": "stream",
          "name": "stdout",
          "text": [
            "   ┌───┐┌────────────┐┌─────────────┐\n",
            "q: ┤ H ├┤ Ry(input1) ├┤ Rx(weight1) ├\n",
            "   └───┘└────────────┘└─────────────┘\n",
            "[Parameter(input1)]\n",
            "[Parameter(weight1)]\n",
            "(SparsePauliOp(['Y'],\n",
            "              coeffs=[1.+0.j]),)\n"
          ]
        }
      ]
    },
    {
      "cell_type": "markdown",
      "source": [
        "# 2.2. SamplerQNN"
      ],
      "metadata": {
        "id": "yZNx5NS_Yqc0"
      }
    },
    {
      "cell_type": "code",
      "source": [
        "from qiskit.circuit import ParameterVector\n",
        "\n",
        "input2=ParameterVector(\"input\",2)\n",
        "weight2=ParameterVector(\"weights\",4)\n",
        "print(f\"input parameters : {[str(item) for item in input2.params]}\")\n",
        "print(f\"weight parameters : {[str(item) for item in weight2.params]}\")\n",
        "\n",
        "qc2=QuantumCircuit(2)\n",
        "qc2.ry(input2[0],0)\n",
        "qc2.ry(input2[1],1)\n",
        "qc2.cx(0,1)\n",
        "qc2.ry(weight2[0],0)\n",
        "qc2.ry(weight2[1],1)\n",
        "qc2.cx(0,1)\n",
        "qc2.ry(weight2[2],0)\n",
        "qc2.ry(weight2[3],1)\n",
        "\n",
        "qc2.draw('mpl',style='clifford')"
      ],
      "metadata": {
        "colab": {
          "base_uri": "https://localhost:8080/",
          "height": 227
        },
        "id": "JVFIC8r9SCdd",
        "outputId": "f2703836-8187-43f4-f500-f704b5ff15c9"
      },
      "execution_count": 23,
      "outputs": [
        {
          "output_type": "stream",
          "name": "stdout",
          "text": [
            "input parameters : ['input[0]', 'input[1]']\n",
            "weight parameters : ['weights[0]', 'weights[1]', 'weights[2]', 'weights[3]']\n"
          ]
        },
        {
          "output_type": "execute_result",
          "data": {
            "text/plain": [
              "<Figure size 705.35x200.667 with 1 Axes>"
            ],
            "image/png": "[encoded data removed]"
          },
          "metadata": {},
          "execution_count": 23
        }
      ]
    },
    {
      "cell_type": "code",
      "source": [
        "from qiskit_machine_learning.neural_networks import SamplerQNN\n",
        "\n",
        "sampler_qnn = SamplerQNN(circuit=qc2, input_params=input2, weight_params=weight2)\n",
        "sampler_qnn"
      ],
      "metadata": {
        "colab": {
          "base_uri": "https://localhost:8080/"
        },
        "id": "iAiVLaDSaTBC",
        "outputId": "27af75ad-6289-41c1-dfb0-0589be4dc5b7"
      },
      "execution_count": 25,
      "outputs": [
        {
          "output_type": "execute_result",
          "data": {
            "text/plain": [
              "<qiskit_machine_learning.neural_networks.sampler_qnn.SamplerQNN at 0x7b1f09a879d0>"
            ]
          },
          "metadata": {},
          "execution_count": 25
        }
      ]
    },
    {
      "cell_type": "code",
      "source": [
        "print(sampler_qnn.circuit)\n",
        "print(sampler_qnn.input_params)\n",
        "print(sampler_qnn.weight_params)"
      ],
      "metadata": {
        "colab": {
          "base_uri": "https://localhost:8080/"
        },
        "id": "D5ZJjvZVe0ig",
        "outputId": "3fe9ed37-5de5-48f9-f971-8a267ee629f9"
      },
      "execution_count": 27,
      "outputs": [
        {
          "output_type": "stream",
          "name": "stdout",
          "text": [
            "     ┌──────────────┐     ┌────────────────┐     ┌────────────────┐\n",
            "q_0: ┤ Ry(input[0]) ├──■──┤ Ry(weights[0]) ├──■──┤ Ry(weights[2]) ├\n",
            "     ├──────────────┤┌─┴─┐├────────────────┤┌─┴─┐├────────────────┤\n",
            "q_1: ┤ Ry(input[1]) ├┤ X ├┤ Ry(weights[1]) ├┤ X ├┤ Ry(weights[3]) ├\n",
            "     └──────────────┘└───┘└────────────────┘└───┘└────────────────┘\n",
            "[ParameterVectorElement(input[0]), ParameterVectorElement(input[1])]\n",
            "[ParameterVectorElement(weights[0]), ParameterVectorElement(weights[1]), ParameterVectorElement(weights[2]), ParameterVectorElement(weights[3])]\n"
          ]
        }
      ]
    },
    {
      "cell_type": "markdown",
      "source": [
        "# **3. How to Run a Forward Pass**"
      ],
      "metadata": {
        "id": "VBsUDVG0fgKy"
      }
    },
    {
      "cell_type": "markdown",
      "source": [
        "we will specify random sets of input and weights of the right dimension:"
      ],
      "metadata": {
        "id": "j3xSIWldg4n0"
      }
    },
    {
      "cell_type": "code",
      "source": [
        "estimator_qnn_input = algorithm_globals.random.random(estimator_qnn.num_inputs)\n",
        "estimator_qnn_weights = algorithm_globals.random.random(estimator_qnn.num_weights)"
      ],
      "metadata": {
        "id": "p6w3hJ5NfOt0"
      },
      "execution_count": 28,
      "outputs": []
    },
    {
      "cell_type": "code",
      "source": [
        "print(\n",
        "    f\"Number of input features for EstimatorQNN: {estimator_qnn.num_inputs} \\nInput: {estimator_qnn_input}\"\n",
        ")\n",
        "print(\n",
        "    f\"Number of trainable weights for EstimatorQNN: {estimator_qnn.num_weights} \\nWeights: {estimator_qnn_weights}\"\n",
        ")"
      ],
      "metadata": {
        "colab": {
          "base_uri": "https://localhost:8080/"
        },
        "id": "24pQgqSBgPde",
        "outputId": "9455adbf-50c5-4432-d432-65716160b143"
      },
      "execution_count": 29,
      "outputs": [
        {
          "output_type": "stream",
          "name": "stdout",
          "text": [
            "Number of input features for EstimatorQNN: 1 \n",
            "Input: [0.77395605]\n",
            "Number of trainable weights for EstimatorQNN: 1 \n",
            "Weights: [0.43887844]\n"
          ]
        }
      ]
    },
    {
      "cell_type": "code",
      "source": [
        "sampler_qnn_input = algorithm_globals.random.random(sampler_qnn.num_inputs)\n",
        "sampler_qnn_weights = algorithm_globals.random.random(sampler_qnn.num_weights)"
      ],
      "metadata": {
        "id": "07ieulpRgSiX"
      },
      "execution_count": 30,
      "outputs": []
    },
    {
      "cell_type": "code",
      "source": [
        "print(\n",
        "    f\"Number of input features for SamplerQNN: {sampler_qnn.num_inputs} \\nInput: {sampler_qnn_input}\"\n",
        ")\n",
        "print(\n",
        "    f\"Number of trainable weights for SamplerQNN: {sampler_qnn.num_weights} \\nWeights: {sampler_qnn_weights}\"\n",
        ")"
      ],
      "metadata": {
        "colab": {
          "base_uri": "https://localhost:8080/"
        },
        "id": "1fFLSi8mgbby",
        "outputId": "3143ec0b-edaa-430e-a96f-73bfa9c9330b"
      },
      "execution_count": 31,
      "outputs": [
        {
          "output_type": "stream",
          "name": "stdout",
          "text": [
            "Number of input features for SamplerQNN: 2 \n",
            "Input: [0.85859792 0.69736803]\n",
            "Number of trainable weights for SamplerQNN: 4 \n",
            "Weights: [0.09417735 0.97562235 0.7611397  0.78606431]\n"
          ]
        }
      ]
    },
    {
      "cell_type": "markdown",
      "source": [
        "# 3.2. Non-batched Forward Pass\n",
        "- **Non-Batched Forward Pass**: This involves processing one data point (or one set of inputs) at a time through the quantum circuit. Each input is individually fed into the circuit, and the corresponding output is generated. This method is straightforward but can be inefficient for large datasets because it doesn't take advantage of parallel processing"
      ],
      "metadata": {
        "id": "3yPlRGHYhAQ3"
      }
    },
    {
      "cell_type": "code",
      "source": [
        "estimator_qnn_forward=estimator_qnn.forward(estimator_qnn_input,estimator_qnn_weights)\n",
        "print(\n",
        "        f\"Forward pass result for EstimatorQNN: {estimator_qnn_forward}. \\nShape: {estimator_qnn_forward.shape}\"\n",
        ")"
      ],
      "metadata": {
        "colab": {
          "base_uri": "https://localhost:8080/"
        },
        "id": "iiFZdO33gxhS",
        "outputId": "4c609618-c3a8-4ec2-a986-9e2f765d5f42"
      },
      "execution_count": 32,
      "outputs": [
        {
          "output_type": "stream",
          "name": "stdout",
          "text": [
            "Forward pass result for EstimatorQNN: [[0.2970094]]. \n",
            "Shape: (1, 1)\n"
          ]
        }
      ]
    },
    {
      "cell_type": "code",
      "source": [
        "sampler_qnn_forward = sampler_qnn.forward(sampler_qnn_input, sampler_qnn_weights)\n",
        "\n",
        "print(\n",
        "    f\"Forward pass result for SamplerQNN: {sampler_qnn_forward}.  \\nShape: {sampler_qnn_forward.shape}\"\n",
        ")"
      ],
      "metadata": {
        "colab": {
          "base_uri": "https://localhost:8080/"
        },
        "id": "FfCsnSCthZ6W",
        "outputId": "095f579b-c889-4582-c0fe-59d181426b49"
      },
      "execution_count": 33,
      "outputs": [
        {
          "output_type": "stream",
          "name": "stdout",
          "text": [
            "Forward pass result for SamplerQNN: [[0.01826527 0.25735654 0.5267981  0.19758009]].  \n",
            "Shape: (1, 4)\n"
          ]
        }
      ]
    },
    {
      "cell_type": "markdown",
      "source": [
        "# 3.3. Batched Forward Pass\n",
        "- **Batched Forward Pass**: This involves processing multiple data points simultaneously through the quantum circuit. By grouping several inputs together into a batch, the circuit can perform operations on all of them at once, leveraging parallelism. This can significantly speed up the computation, especially when dealing with large datasets."
      ],
      "metadata": {
        "id": "pRgaxidBhlut"
      }
    },
    {
      "cell_type": "code",
      "source": [
        "estimator_qnn_forward_batched = estimator_qnn.forward(\n",
        "    [estimator_qnn_input,estimator_qnn_input],estimator_qnn_weights\n",
        ")\n",
        "print(\n",
        "    f\"Forward pass result for EstimatorQNN: {estimator_qnn_forward_batched}.  \\nShape: {estimator_qnn_forward_batched.shape}\"\n",
        ")"
      ],
      "metadata": {
        "colab": {
          "base_uri": "https://localhost:8080/"
        },
        "id": "Dgia5x6UhiW9",
        "outputId": "ecd5e53c-7400-4c07-b0eb-7b8e8cf3cae3"
      },
      "execution_count": 34,
      "outputs": [
        {
          "output_type": "stream",
          "name": "stdout",
          "text": [
            "Forward pass result for EstimatorQNN: [[0.2970094]\n",
            " [0.2970094]].  \n",
            "Shape: (2, 1)\n"
          ]
        }
      ]
    },
    {
      "cell_type": "code",
      "source": [
        "sampler_qnn_forward_batched = sampler_qnn.forward(\n",
        "    [sampler_qnn_input, sampler_qnn_input], sampler_qnn_weights\n",
        ")\n",
        "\n",
        "print(\n",
        "    f\"Forward pass result for SamplerQNN: {sampler_qnn_forward_batched}.  \\nShape: {sampler_qnn_forward_batched.shape}\"\n",
        ")"
      ],
      "metadata": {
        "colab": {
          "base_uri": "https://localhost:8080/"
        },
        "id": "003MMSgwi1Td",
        "outputId": "f2dc3904-82d4-4ec3-d0ba-d95f665aeba0"
      },
      "execution_count": 35,
      "outputs": [
        {
          "output_type": "stream",
          "name": "stdout",
          "text": [
            "Forward pass result for SamplerQNN: [[0.01826527 0.25735654 0.5267981  0.19758009]\n",
            " [0.01826527 0.25735654 0.5267981  0.19758009]].  \n",
            "Shape: (2, 4)\n"
          ]
        }
      ]
    },
    {
      "cell_type": "markdown",
      "source": [
        "# **4. How to Run a Backward Pass**"
      ],
      "metadata": {
        "id": "XBegN2cnkGiF"
      }
    },
    {
      "cell_type": "markdown",
      "source": [
        "# 4.1. Backward Pass without Input Gradients\n",
        "- **Backward Pass Without Input Gradients:** This means updating the weights of your neural network during training without considering how changes in the input affect the loss. It's a quicker, more straightforward way, often used when you're only interested in how the weights should be adjusted.\n",
        "\n"
      ],
      "metadata": {
        "id": "HY1zUBbVmb6N"
      }
    },
    {
      "cell_type": "code",
      "source": [
        "estimator_qnn_input_grad, estimator_qnn_weight_grad = estimator_qnn.backward(\n",
        "    estimator_qnn_input, estimator_qnn_weights\n",
        ")\n",
        "\n",
        "print(\n",
        "    f\"Input gradients for EstimatorQNN: {estimator_qnn_input_grad}.  \\nShape: {estimator_qnn_input_grad}\"\n",
        ")\n",
        "print(\n",
        "    f\"Weight gradients for EstimatorQNN: {estimator_qnn_weight_grad}.  \\nShape: {estimator_qnn_weight_grad.shape}\"\n",
        ")"
      ],
      "metadata": {
        "colab": {
          "base_uri": "https://localhost:8080/"
        },
        "id": "X4wLXy4ji-LB",
        "outputId": "e0f05ee3-fdd9-4766-dd21-6b8f64348052"
      },
      "execution_count": 39,
      "outputs": [
        {
          "output_type": "stream",
          "name": "stdout",
          "text": [
            "Input gradients for EstimatorQNN: None.  \n",
            "Shape: None\n",
            "Weight gradients for EstimatorQNN: [[[0.63272767]]].  \n",
            "Shape: (1, 1, 1)\n"
          ]
        }
      ]
    },
    {
      "cell_type": "code",
      "source": [
        "sampler_qnn_input_grad, sampler_qnn_weight_grad = sampler_qnn.backward(\n",
        "    sampler_qnn_input, sampler_qnn_weights\n",
        ")\n",
        "\n",
        "print(\n",
        "    f\"Input gradients for SamplerQNN: {sampler_qnn_input_grad}.  \\nShape: {sampler_qnn_input_grad}\"\n",
        ")\n",
        "print(\n",
        "    f\"Weight gradients for SamplerQNN: {sampler_qnn_weight_grad}.  \\nShape: {sampler_qnn_weight_grad.shape}\"\n",
        ")"
      ],
      "metadata": {
        "colab": {
          "base_uri": "https://localhost:8080/"
        },
        "id": "OcZFHtI5mv8l",
        "outputId": "aa7da60d-e5fc-4c82-fe8d-cbae750d32f8"
      },
      "execution_count": 37,
      "outputs": [
        {
          "output_type": "stream",
          "name": "stdout",
          "text": [
            "Input gradients for SamplerQNN: None.  \n",
            "Shape: None\n",
            "Weight gradients for SamplerQNN: [[[ 0.00606238 -0.1124595  -0.06856156 -0.09809236]\n",
            "  [ 0.21167414 -0.09069775  0.06856156 -0.22549618]\n",
            "  [-0.48846674  0.32499215 -0.32262178  0.09809236]\n",
            "  [ 0.27073021 -0.12183491  0.32262178  0.22549618]]].  \n",
            "Shape: (1, 4, 4)\n"
          ]
        }
      ]
    },
    {
      "cell_type": "markdown",
      "source": [
        "# 4.2. Backward Pass with Input Gradients\n",
        "- **Backward Pass With Input Gradients**: Here, you also take into account how changes in the input impact the loss. This makes the training more precise and nuanced because you're considering the full effect of both input changes and weight adjustments on the outcome."
      ],
      "metadata": {
        "id": "ZoYr3vFynfjI"
      }
    },
    {
      "cell_type": "code",
      "source": [
        "estimator_qnn.input_gradients = True\n",
        "sampler_qnn.input_gradients = True"
      ],
      "metadata": {
        "id": "lg58fJWum3pm"
      },
      "execution_count": 40,
      "outputs": []
    },
    {
      "cell_type": "code",
      "source": [
        "estimator_qnn_input_grad, estimator_qnn_weight_grad = estimator_qnn.backward(\n",
        "    estimator_qnn_input, estimator_qnn_weights\n",
        ")\n",
        "\n",
        "print(\n",
        "    f\"Input gradients for EstimatorQNN: {estimator_qnn_input_grad}.  \\nShape: {estimator_qnn_input_grad.shape}\"\n",
        ")\n",
        "print(\n",
        "    f\"Weight gradients for EstimatorQNN: {estimator_qnn_weight_grad}.  \\nShape: {estimator_qnn_weight_grad.shape}\"\n",
        ")"
      ],
      "metadata": {
        "colab": {
          "base_uri": "https://localhost:8080/"
        },
        "id": "B3Hs1nqfnjV6",
        "outputId": "ea449c4e-0786-490c-ea9b-8669b7b81c89"
      },
      "execution_count": 41,
      "outputs": [
        {
          "output_type": "stream",
          "name": "stdout",
          "text": [
            "Input gradients for EstimatorQNN: [[[0.3038852]]].  \n",
            "Shape: (1, 1, 1)\n",
            "Weight gradients for EstimatorQNN: [[[0.63272767]]].  \n",
            "Shape: (1, 1, 1)\n"
          ]
        }
      ]
    },
    {
      "cell_type": "code",
      "source": [
        "sampler_qnn_input_grad, sampler_qnn_weight_grad = sampler_qnn.backward(\n",
        "    sampler_qnn_input, sampler_qnn_weights\n",
        ")\n",
        "\n",
        "print(\n",
        "    f\"Input gradients for SamplerQNN: {sampler_qnn_input_grad}.  \\nShape: {sampler_qnn_input_grad.shape}\"\n",
        ")\n",
        "print(\n",
        "    f\"Weight gradients for SamplerQNN: {sampler_qnn_weight_grad}.  \\nShape: {sampler_qnn_weight_grad.shape}\"\n",
        ")"
      ],
      "metadata": {
        "colab": {
          "base_uri": "https://localhost:8080/"
        },
        "id": "c6hNNg1cnrd9",
        "outputId": "6a1eb97a-20bd-4e99-dc22-2b1bd8e4c961"
      },
      "execution_count": 42,
      "outputs": [
        {
          "output_type": "stream",
          "name": "stdout",
          "text": [
            "Input gradients for SamplerQNN: [[[-0.05844702 -0.10621091]\n",
            "  [ 0.38798796 -0.19544083]\n",
            "  [-0.34561132  0.09459601]\n",
            "  [ 0.01607038  0.20705573]]].  \n",
            "Shape: (1, 4, 2)\n",
            "Weight gradients for SamplerQNN: [[[ 0.00606238 -0.1124595  -0.06856156 -0.09809236]\n",
            "  [ 0.21167414 -0.09069775  0.06856156 -0.22549618]\n",
            "  [-0.48846674  0.32499215 -0.32262178  0.09809236]\n",
            "  [ 0.27073021 -0.12183491  0.32262178  0.22549618]]].  \n",
            "Shape: (1, 4, 4)\n"
          ]
        }
      ]
    },
    {
      "cell_type": "markdown",
      "source": [
        "# **5. Advanced Functionality**"
      ],
      "metadata": {
        "id": "P5h1ncBSn80g"
      }
    },
    {
      "cell_type": "markdown",
      "source": [
        "# 5.1. EstimatorQNN with Multiple Observables\n",
        "- **EstimatorQNN with Multiple Observables:** Think of it as an advanced measurement tool. You can set up a QNN to evaluate multiple aspects (observables) at once. This is useful when you need detailed insights from different angles, all in one go."
      ],
      "metadata": {
        "id": "JtGwxpNnoFQt"
      }
    },
    {
      "cell_type": "code",
      "source": [
        "observable2 = SparsePauliOp.from_list([(\"Z\" * qc1.num_qubits, 1)])\n",
        "\n",
        "estimator_qnn2 = EstimatorQNN(\n",
        "    circuit=qc1,\n",
        "    observables=[observable1, observable2],\n",
        "    input_params=[params1[0]],\n",
        "    weight_params=[params1[1]],\n",
        ")"
      ],
      "metadata": {
        "id": "y_czNkHtnx-w"
      },
      "execution_count": 43,
      "outputs": []
    },
    {
      "cell_type": "code",
      "source": [
        "estimator_qnn_forward2 = estimator_qnn2.forward(estimator_qnn_input, estimator_qnn_weights)\n",
        "estimator_qnn_input_grad2, estimator_qnn_weight_grad2 = estimator_qnn2.backward(\n",
        "    estimator_qnn_input, estimator_qnn_weights\n",
        ")\n",
        "\n",
        "print(f\"Forward output for EstimatorQNN1: {estimator_qnn_forward.shape}\")\n",
        "print(f\"Forward output for EstimatorQNN2: {estimator_qnn_forward2.shape}\")\n",
        "print(f\"Backward output for EstimatorQNN1: {estimator_qnn_weight_grad.shape}\")\n",
        "print(f\"Backward output for EstimatorQNN2: {estimator_qnn_weight_grad2.shape}\")\n"
      ],
      "metadata": {
        "colab": {
          "base_uri": "https://localhost:8080/"
        },
        "id": "92p5kbEOoJiR",
        "outputId": "06e3860c-6d6f-4518-d1fd-9e166393eb9e"
      },
      "execution_count": 44,
      "outputs": [
        {
          "output_type": "stream",
          "name": "stdout",
          "text": [
            "Forward output for EstimatorQNN1: (1, 1)\n",
            "Forward output for EstimatorQNN2: (1, 2)\n",
            "Backward output for EstimatorQNN1: (1, 1, 1)\n",
            "Backward output for EstimatorQNN2: (1, 2, 1)\n"
          ]
        }
      ]
    },
    {
      "cell_type": "markdown",
      "source": [
        "## 5.2. SamplerQNN with custom interpret\n",
        "- **SamplerQNN with Custom Interpret:** This one’s more about flexibility. It allows you to define how the outputs (samples) should be interpreted. You can create custom rules or methods to make sense of the results, tailored to your specific needs."
      ],
      "metadata": {
        "id": "rReZL11Iogfp"
      }
    },
    {
      "cell_type": "code",
      "source": [
        "parity = lambda x: \"{:b}\".format(x).count(\"1\") % 2\n",
        "output_shape = 2  # parity = 0, 1\n",
        "\n",
        "sampler_qnn2 = SamplerQNN(\n",
        "    circuit=qc2,\n",
        "    input_params=input2,\n",
        "    weight_params=weight2,\n",
        "    interpret=parity,\n",
        "    output_shape=output_shape,\n",
        ")"
      ],
      "metadata": {
        "id": "2tiqmlG7oPGW"
      },
      "execution_count": 46,
      "outputs": []
    },
    {
      "cell_type": "code",
      "source": [
        "sampler_qnn_forward2 = sampler_qnn2.forward(sampler_qnn_input, sampler_qnn_weights)\n",
        "sampler_qnn_input_grad2, sampler_qnn_weight_grad2 = sampler_qnn2.backward(\n",
        "    sampler_qnn_input, sampler_qnn_weights\n",
        ")\n",
        "\n",
        "print(f\"Forward output for SamplerQNN1: {sampler_qnn_forward.shape}\")\n",
        "print(f\"Forward output for SamplerQNN2: {sampler_qnn_forward2.shape}\")\n",
        "print(f\"Backward output for SamplerQNN1: {sampler_qnn_weight_grad.shape}\")\n",
        "print(f\"Backward output for SamplerQNN2: {sampler_qnn_weight_grad2.shape}\")"
      ],
      "metadata": {
        "colab": {
          "base_uri": "https://localhost:8080/"
        },
        "id": "jw2b7GyeolYY",
        "outputId": "06075c61-87f6-4956-bac2-b25eb4f0a006"
      },
      "execution_count": 47,
      "outputs": [
        {
          "output_type": "stream",
          "name": "stdout",
          "text": [
            "Forward output for SamplerQNN1: (1, 4)\n",
            "Forward output for SamplerQNN2: (1, 2)\n",
            "Backward output for SamplerQNN1: (1, 4, 4)\n",
            "Backward output for SamplerQNN2: (1, 2, 4)\n"
          ]
        }
      ]
    },
    {
      "cell_type": "code",
      "source": [],
      "metadata": {
        "id": "WtsUQ_mYqys7"
      },
      "execution_count": null,
      "outputs": []
    }
  ]
}